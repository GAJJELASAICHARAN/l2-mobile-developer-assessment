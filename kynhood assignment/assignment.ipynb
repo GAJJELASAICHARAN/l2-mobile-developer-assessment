{
 "cells": [
  {
   "cell_type": "markdown",
   "id": "027c810b",
   "metadata": {},
   "source": [
    "# Kyn hood assignment\n",
    "# NAME::GAJJELA SAI CHARAN\n",
    "# REG NO::40731025"
   ]
  },
  {
   "cell_type": "code",
   "execution_count": 1,
   "id": "ac08ec72",
   "metadata": {},
   "outputs": [
    {
     "name": "stdout",
     "output_type": "stream",
     "text": [
      "Defaulting to user installation because normal site-packages is not writeable\n",
      "Requirement already satisfied: pygame in c:\\users\\sai charan\\appdata\\roaming\\python\\python39\\site-packages (2.5.2)\n",
      "Note: you may need to restart the kernel to use updated packages.\n"
     ]
    }
   ],
   "source": [
    "pip install pygame"
   ]
  },
  {
   "cell_type": "code",
   "execution_count": 2,
   "id": "a327b61a",
   "metadata": {},
   "outputs": [
    {
     "name": "stdout",
     "output_type": "stream",
     "text": [
      "Defaulting to user installation because normal site-packages is not writeable\n",
      "Note: you may need to restart the kernel to use updated packages.\n"
     ]
    },
    {
     "name": "stderr",
     "output_type": "stream",
     "text": [
      "ERROR: Could not find a version that satisfies the requirement random (from versions: none)\n",
      "ERROR: No matching distribution found for random\n"
     ]
    }
   ],
   "source": [
    "pip install random"
   ]
  },
  {
   "cell_type": "code",
   "execution_count": 3,
   "id": "8fb7fb91",
   "metadata": {},
   "outputs": [
    {
     "name": "stdout",
     "output_type": "stream",
     "text": [
      "Defaulting to user installation because normal site-packages is not writeable\n",
      "Note: you may need to restart the kernel to use updated packages.\n"
     ]
    },
    {
     "name": "stderr",
     "output_type": "stream",
     "text": [
      "ERROR: Could not find a version that satisfies the requirement sys (from versions: none)\n",
      "ERROR: No matching distribution found for sys\n"
     ]
    }
   ],
   "source": [
    "pip install sys"
   ]
  },
  {
   "cell_type": "code",
   "execution_count": 4,
   "id": "5aa4d5cc",
   "metadata": {},
   "outputs": [
    {
     "name": "stdout",
     "output_type": "stream",
     "text": [
      "Defaulting to user installation because normal site-packages is not writeable\n",
      "Collecting argparse\n",
      "  Using cached argparse-1.4.0-py2.py3-none-any.whl (23 kB)\n",
      "Installing collected packages: argparse\n",
      "Successfully installed argparse-1.4.0\n",
      "Note: you may need to restart the kernel to use updated packages.\n"
     ]
    }
   ],
   "source": [
    "pip install argparse"
   ]
  },
  {
   "cell_type": "code",
   "execution_count": 7,
   "id": "71d8f219",
   "metadata": {},
   "outputs": [
    {
     "ename": "SystemExit",
     "evalue": "",
     "output_type": "error",
     "traceback": [
      "An exception has occurred, use %tb to see the full traceback.\n",
      "\u001b[1;31mSystemExit\u001b[0m\n"
     ]
    }
   ],
   "source": [
    "import pygame\n",
    "import random\n",
    "import sys\n",
    "\n",
    "# Initialize pygame\n",
    "pygame.init()\n",
    "\n",
    "# Screen dimensions\n",
    "WIDTH, HEIGHT = 800, 600\n",
    "\n",
    "# Colors\n",
    "WHITE = (255, 255, 255)\n",
    "BLACK = (0, 0, 0)\n",
    "RED = (255, 0, 0)\n",
    "\n",
    "# Balloon properties\n",
    "BALLOON_RADIUS = 20\n",
    "BALLOON_SPEED = 2\n",
    "\n",
    "# Timer properties\n",
    "TIMER_DURATION = 120  # 2 minutes in seconds\n",
    "\n",
    "# Initialize the screen\n",
    "screen = pygame.display.set_mode((WIDTH, HEIGHT))\n",
    "pygame.display.set_caption(\"Balloon Pop Game\")\n",
    "\n",
    "# Fonts\n",
    "font = pygame.font.Font(None, 36)\n",
    "\n",
    "# Initialize variables\n",
    "balloons = []\n",
    "score = 0\n",
    "clicked_count = 0\n",
    "missed_count = 0\n",
    "start_time = pygame.time.get_ticks()\n",
    "game_over = False\n",
    "\n",
    "# Function to generate balloons\n",
    "def generate_balloon():\n",
    "    x = random.randint(BALLOON_RADIUS, WIDTH - BALLOON_RADIUS)\n",
    "    y = HEIGHT\n",
    "    velocity = random.randint(1, 3)\n",
    "    balloons.append([x, y, velocity])\n",
    "\n",
    "# Function to draw balloons\n",
    "def draw_balloons():\n",
    "    for balloon in balloons:\n",
    "        pygame.draw.circle(screen, RED, (balloon[0], balloon[1]), BALLOON_RADIUS)\n",
    "\n",
    "# Function to update balloon positions\n",
    "def update_balloons():\n",
    "    global score, missed_count\n",
    "    for balloon in balloons:\n",
    "        balloon[1] -= balloon[2] * BALLOON_SPEED\n",
    "        if balloon[1] < -BALLOON_RADIUS:  # Check if balloon moved out of the screen\n",
    "            balloons.remove(balloon)\n",
    "            score -= 1  # Deduct score for missed balloons\n",
    "            missed_count += 1  # Increment missed count\n",
    "\n",
    "# Function to handle events\n",
    "def handle_events():\n",
    "    global score, clicked_count, game_over\n",
    "\n",
    "    for event in pygame.event.get():\n",
    "        if event.type == pygame.QUIT:\n",
    "            pygame.quit()\n",
    "            sys.exit()\n",
    "        elif event.type == pygame.MOUSEBUTTONDOWN and not game_over:\n",
    "            mouse_pos = pygame.mouse.get_pos()\n",
    "            for balloon in balloons:\n",
    "                if pygame.Rect(balloon[0] - BALLOON_RADIUS, balloon[1] - BALLOON_RADIUS,\n",
    "                                2 * BALLOON_RADIUS, 2 * BALLOON_RADIUS).collidepoint(mouse_pos):\n",
    "                    balloons.remove(balloon)\n",
    "                    score += 2\n",
    "                    clicked_count += 1  # Increment clicked count\n",
    "                    break\n",
    "\n",
    "# Main game loop\n",
    "clock = pygame.time.Clock()\n",
    "while True:\n",
    "    # Handle events\n",
    "    handle_events()\n",
    "\n",
    "    # Update balloons\n",
    "    if not game_over:\n",
    "        update_balloons()\n",
    "\n",
    "    # Generate new balloons\n",
    "    if not game_over and random.random() < 0.02:\n",
    "        generate_balloon()\n",
    "\n",
    "    # Clear the screen\n",
    "    screen.fill(WHITE)\n",
    "\n",
    "    # Draw balloons\n",
    "    draw_balloons()\n",
    "\n",
    "    # Draw score\n",
    "    score_text = font.render(f\"Score: {score}\", True, BLACK)\n",
    "    screen.blit(score_text, (20, 20))\n",
    "\n",
    "    # Draw clicked and missed counts\n",
    "    counts_text = font.render(f\"Clicked: {clicked_count}  Missed: {missed_count}\", True, BLACK)\n",
    "    screen.blit(counts_text, (20, 60))\n",
    "\n",
    "    # Draw timer\n",
    "    time_elapsed = (pygame.time.get_ticks() - start_time) // 1000\n",
    "    time_left = max(TIMER_DURATION - time_elapsed, 0)\n",
    "    timer_text = font.render(f\"Time Left: {time_left // 60:02}:{time_left % 60:02}\", True, BLACK)\n",
    "    screen.blit(timer_text, (WIDTH - 200, 20))\n",
    "\n",
    "    # Check for game over\n",
    "    if time_left == 0:\n",
    "        game_over = True\n",
    "        game_over_text = font.render(\"Game Over\", True, RED)\n",
    "        screen.blit(game_over_text, (WIDTH // 2 - 100, HEIGHT // 2 - 50))\n",
    "\n",
    "        final_score_text = font.render(f\"Final Score: {score}\", True, BLACK)\n",
    "        screen.blit(final_score_text, (WIDTH // 2 - 100, HEIGHT // 2))\n",
    "\n",
    "        play_again_text = font.render(\"Press Space to Play Again\", True, BLACK)\n",
    "        screen.blit(play_again_text, (WIDTH // 2 - 150, HEIGHT // 2 + 50))\n",
    "\n",
    "        # Handle play again\n",
    "        keys = pygame.key.get_pressed()\n",
    "        if keys[pygame.K_SPACE]:\n",
    "            balloons = []\n",
    "            score = 0\n",
    "            clicked_count = 0\n",
    "            missed_count = 0\n",
    "            start_time = pygame.time.get_ticks()\n",
    "            game_over = False\n",
    "\n",
    "    # Update the display\n",
    "    pygame.display.flip()\n",
    "\n",
    "    # Cap the frame rate\n",
    "    clock.tick(60)"
   ]
  },
  {
   "cell_type": "code",
   "execution_count": null,
   "id": "cedf7361",
   "metadata": {},
   "outputs": [],
   "source": []
  }
 ],
 "metadata": {
  "kernelspec": {
   "display_name": "Python 3 (ipykernel)",
   "language": "python",
   "name": "python3"
  },
  "language_info": {
   "codemirror_mode": {
    "name": "ipython",
    "version": 3
   },
   "file_extension": ".py",
   "mimetype": "text/x-python",
   "name": "python",
   "nbconvert_exporter": "python",
   "pygments_lexer": "ipython3",
   "version": "3.9.13"
  }
 },
 "nbformat": 4,
 "nbformat_minor": 5
}
